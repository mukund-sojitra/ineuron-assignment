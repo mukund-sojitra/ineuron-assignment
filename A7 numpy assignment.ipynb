{
 "cells": [
  {
   "cell_type": "markdown",
   "metadata": {},
   "source": [
    "# Assignment 7"
   ]
  },
  {
   "cell_type": "markdown",
   "metadata": {},
   "source": [
    "## Problem Statement : 1\n",
    "    Write a function so that the columns of the output matrix are powers of the input vector.\n",
    "\n",
    "    The order of the powers is determined by the increasing boolean argument. Specifically, when increasing is False, the i-th output column is the input vector raised element-wise to the power of N - i - 1.\n",
    "\n",
    "    HINT: Such a matrix with a geometric progression in each row is named for Alexandre- Theophile Vandermonde."
   ]
  },
  {
   "cell_type": "code",
   "execution_count": 1,
   "metadata": {},
   "outputs": [],
   "source": [
    "import numpy as np"
   ]
  },
  {
   "cell_type": "code",
   "execution_count": 2,
   "metadata": {},
   "outputs": [],
   "source": [
    "def alexTheoVander(iVector, n, increasing = False):\n",
    "    if increasing:\n",
    "        oMatrix = np.matrix([x**i for x in iVector for i in range(n)]).reshape(iVector.size, n)\n",
    "    else:\n",
    "        oMatrix = np.matrix([x**(n-i-1) for x in iVector for i in range(n)]).reshape(iVector.size, n)\n",
    "    return oMatrix"
   ]
  },
  {
   "cell_type": "code",
   "execution_count": 3,
   "metadata": {},
   "outputs": [
    {
     "data": {
      "text/plain": [
       "matrix([[   1,    1,    1,    1,    1],\n",
       "        [   1,    3,    9,   27,   81],\n",
       "        [   1,    5,   25,  125,  625],\n",
       "        [   1,    7,   49,  343, 2401],\n",
       "        [   1,    9,   81,  729, 6561]])"
      ]
     },
     "execution_count": 3,
     "metadata": {},
     "output_type": "execute_result"
    }
   ],
   "source": [
    "iVector = np.array([1, 3, 5, 7, 9])\n",
    "n = 5\n",
    "\n",
    "oMtarix_asc = alexTheoVander(iVector, n, True)\n",
    "oMtarix_asc"
   ]
  },
  {
   "cell_type": "code",
   "execution_count": 4,
   "metadata": {},
   "outputs": [
    {
     "data": {
      "text/plain": [
       "matrix([[   1,    1,    1,    1,    1],\n",
       "        [  81,   27,    9,    3,    1],\n",
       "        [ 625,  125,   25,    5,    1],\n",
       "        [2401,  343,   49,    7,    1],\n",
       "        [6561,  729,   81,    9,    1]])"
      ]
     },
     "execution_count": 4,
     "metadata": {},
     "output_type": "execute_result"
    }
   ],
   "source": [
    "oMtarix_desc = alexTheoVander(iVector, n, False)\n",
    "oMtarix_desc"
   ]
  },
  {
   "cell_type": "markdown",
   "metadata": {},
   "source": [
    "## Problem Statement 2:\n",
    "\n",
    "    Given a sequence of n values x1, x2, ..., xn and a window size k>0, the k-th moving average of the given sequence is defined as follows:\n",
    "    \n",
    "    The moving average sequence has n-k+1 elements as shown below.\n",
    "    \n",
    "    The moving averages with k=4 of a ten-value sequence (n=10) is shown below\n",
    "    \n",
    "            i 1 2 3 4 5 6 7 8 9 10\n",
    "            ===== == == == == == == == == == ==\n",
    "            Input 10 20 30 40 50 60 70 80 90 100\n",
    "            y1 25 = (10+20+30+40)/4\n",
    "            y2 35 = (20+30+40+50)/4\n",
    "            y3 45 = (30+40+50+60)/4\n",
    "            y4 55 = (40+50+60+70)/4\n",
    "            y5 65 = (50+60+70+80)/4\n",
    "            y6 75 = (60+70+80+90)/4\n",
    "            y7 85 = (70+80+90+100)/4\n",
    "            \n",
    "    Thus, the moving average sequence has n-k+1=10-4+1=7 values."
   ]
  },
  {
   "cell_type": "code",
   "execution_count": 5,
   "metadata": {},
   "outputs": [],
   "source": [
    "def movingAverage(inputValue, k):\n",
    "    z = 1\n",
    "    output = np.convolve(inputValue, np.ones(k), 'valid') / k\n",
    "    for i in output:\n",
    "        print(\"y{0} = {1:.2f}\".format(z, i))\n",
    "        z += 1"
   ]
  },
  {
   "cell_type": "code",
   "execution_count": 6,
   "metadata": {},
   "outputs": [
    {
     "name": "stdout",
     "output_type": "stream",
     "text": [
      "y1 = 7.33\n",
      "y2 = 10.67\n",
      "y3 = 23.00\n",
      "y4 = 28.33\n",
      "y5 = 61.33\n",
      "y6 = 123.33\n",
      "y7 = 303.33\n",
      "y8 = 269.33\n",
      "y9 = 204.33\n",
      "y10 = 67.33\n",
      "y11 = 151.00\n",
      "y12 = 187.33\n"
     ]
    }
   ],
   "source": [
    "inputValue = np.array([5, 8, 9, 15, 45, 25, 114, 231, 565, 12, 36, 154, 263, 145])\n",
    "k = 3\n",
    "movingAverage(inputValue, k)"
   ]
  },
  {
   "cell_type": "code",
   "execution_count": null,
   "metadata": {},
   "outputs": [],
   "source": []
  }
 ],
 "metadata": {
  "kernelspec": {
   "display_name": "Python 3 (ipykernel)",
   "language": "python",
   "name": "python3"
  },
  "language_info": {
   "codemirror_mode": {
    "name": "ipython",
    "version": 3
   },
   "file_extension": ".py",
   "mimetype": "text/x-python",
   "name": "python",
   "nbconvert_exporter": "python",
   "pygments_lexer": "ipython3",
   "version": "3.9.7"
  }
 },
 "nbformat": 4,
 "nbformat_minor": 4
}
